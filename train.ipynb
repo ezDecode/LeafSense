{
 "cells": [
  {
   "cell_type": "code",
   "execution_count": null,
   "id": "91562612",
   "metadata": {
    "vscode": {
     "languageId": "plaintext"
    }
   },
   "outputs": [],
   "source": [
    "!git https://github.com/ezDecode/LeafSense.git"
   ]
  }
 ],
 "metadata": {
  "language_info": {
   "name": "python"
  }
 },
 "nbformat": 4,
 "nbformat_minor": 5
}
